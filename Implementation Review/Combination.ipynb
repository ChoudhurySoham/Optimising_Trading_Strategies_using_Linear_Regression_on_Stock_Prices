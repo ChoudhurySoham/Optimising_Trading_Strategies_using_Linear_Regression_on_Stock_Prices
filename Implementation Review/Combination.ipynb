{
 "cells": [
  {
   "cell_type": "markdown",
   "id": "386eba1b",
   "metadata": {},
   "source": [
    "# Importing the historical prices"
   ]
  },
  {
   "cell_type": "code",
   "execution_count": null,
   "id": "44280e2c",
   "metadata": {},
   "outputs": [],
   "source": [
    "#Dataset imports\n",
    "import yfinance as yf\n",
    "\n",
    "#Standard imports\n",
    "import pandas as pd\n",
    "import numpy as np\n",
    "\n",
    "#Visualization imports\n",
    "from matplotlib import pyplot as plt\n",
    "import seaborn as sns\n",
    "\n",
    "#Model imports\n",
    "from sklearn.model_selection import train_test_split\n",
    "from sklearn.linear_model import LinearRegression\n",
    "\n",
    "#To hide warnings\n",
    "import warnings\n",
    "warnings.filterwarnings('ignore')\n",
    "\n",
    "import math"
   ]
  },
  {
   "cell_type": "code",
   "execution_count": null,
   "id": "6461b92a",
   "metadata": {},
   "outputs": [],
   "source": [
    "ticker = \"ORCL\"\n",
    "start_date = \"2022-06-22\"\n",
    "end_date = \"2023-06-22\"\n",
    "df = yf.download(ticker, start_date, end_date)\n",
    "# new.to_csv('Dataset.csv')\n",
    "# df = pd.read_csv('Dataset.csv')"
   ]
  },
  {
   "cell_type": "code",
   "execution_count": null,
   "id": "18630ea6",
   "metadata": {
    "scrolled": false
   },
   "outputs": [],
   "source": [
    "df\n"
   ]
  },
  {
   "cell_type": "code",
   "execution_count": null,
   "id": "511df3a8",
   "metadata": {},
   "outputs": [],
   "source": [
    "df.index"
   ]
  },
  {
   "cell_type": "markdown",
   "id": "3abffd37",
   "metadata": {},
   "source": [
    "# Plotting the data"
   ]
  },
  {
   "cell_type": "code",
   "execution_count": null,
   "id": "70c7df8c",
   "metadata": {},
   "outputs": [],
   "source": [
    "df.plot.line(y=\"Close\", use_index=True)"
   ]
  },
  {
   "cell_type": "code",
   "execution_count": null,
   "id": "e38bad0e",
   "metadata": {},
   "outputs": [],
   "source": [
    "print(df.describe())\n"
   ]
  },
  {
   "cell_type": "markdown",
   "id": "f0790c81",
   "metadata": {},
   "source": [
    "# Keeping only the required columns"
   ]
  },
  {
   "cell_type": "code",
   "execution_count": null,
   "id": "933ec667",
   "metadata": {},
   "outputs": [],
   "source": [
    "\n",
    "df = df[[\"Close\"]]"
   ]
  },
  {
   "cell_type": "code",
   "execution_count": null,
   "id": "b55a5d57",
   "metadata": {},
   "outputs": [],
   "source": [
    "df"
   ]
  },
  {
   "cell_type": "code",
   "execution_count": null,
   "id": "d1a034b4",
   "metadata": {},
   "outputs": [],
   "source": [
    "print(df.describe())"
   ]
  },
  {
   "cell_type": "markdown",
   "id": "7a5efa4e",
   "metadata": {},
   "source": [
    "# Adding technical indicators"
   ]
  },
  {
   "cell_type": "code",
   "execution_count": null,
   "id": "b3214001",
   "metadata": {},
   "outputs": [],
   "source": [
    "import pandas_ta"
   ]
  },
  {
   "cell_type": "code",
   "execution_count": null,
   "id": "9d5e89e9",
   "metadata": {
    "scrolled": false
   },
   "outputs": [],
   "source": [
    "#Appending EMA(Estimated Moving Average) column to dataframe by appending\n",
    "df.ta.ema(close='close', length = 10, append = True)\n",
    "df"
   ]
  },
  {
   "cell_type": "code",
   "execution_count": null,
   "id": "6a541912",
   "metadata": {},
   "outputs": [],
   "source": [
    "print(df.info())"
   ]
  },
  {
   "cell_type": "markdown",
   "id": "71dd3608",
   "metadata": {},
   "source": [
    "# Checking and visualizing correlation"
   ]
  },
  {
   "cell_type": "code",
   "execution_count": null,
   "id": "926462d7",
   "metadata": {},
   "outputs": [],
   "source": [
    "plt.scatter(df['Close'], df['EMA_10'])\n",
    "plt.grid()\n",
    "plt.show()"
   ]
  },
  {
   "cell_type": "code",
   "execution_count": null,
   "id": "3309e639",
   "metadata": {},
   "outputs": [],
   "source": [
    "print(df.corr())\n",
    "plt.figure(figsize=(4,2))\n",
    "sns.heatmap(df.corr(), cmap=\"Greens\", annot=True)\n",
    "plt.show()"
   ]
  },
  {
   "cell_type": "code",
   "execution_count": null,
   "id": "691065a4",
   "metadata": {},
   "outputs": [],
   "source": [
    "sns.pairplot(df)"
   ]
  },
  {
   "cell_type": "markdown",
   "id": "6dfe0b98",
   "metadata": {},
   "source": [
    "# Removing NULL values from DataFrame"
   ]
  },
  {
   "cell_type": "code",
   "execution_count": null,
   "id": "434b30db",
   "metadata": {},
   "outputs": [],
   "source": [
    "# Dropping the first n (10 in this case) rows \n",
    "df=df.iloc[10:]\n",
    "df"
   ]
  },
  {
   "cell_type": "code",
   "execution_count": null,
   "id": "cfb6ea94",
   "metadata": {},
   "outputs": [],
   "source": [
    "print(df.info())"
   ]
  },
  {
   "cell_type": "code",
   "execution_count": null,
   "id": "42c3431e",
   "metadata": {},
   "outputs": [],
   "source": [
    "plt.plot(df)\n",
    "plt.legend(df)\n",
    "plt.show()"
   ]
  },
  {
   "cell_type": "markdown",
   "id": "2a2000a3",
   "metadata": {},
   "source": [
    "# Splitting the data"
   ]
  },
  {
   "cell_type": "code",
   "execution_count": null,
   "id": "366999f5",
   "metadata": {
    "scrolled": true
   },
   "outputs": [],
   "source": [
    "from sklearn.model_selection import train_test_split\n",
    "\n",
    "#Using an 80-20 split into training and testing sets\n",
    "\n",
    "var1 = df[['Close']] #Independent Variable\n",
    "var2 = df[['EMA_10']] #Dependent Variable\n",
    "\n",
    "X_train, X_test, y_train, y_test = train_test_split(var1, var2, test_size=.2)"
   ]
  },
  {
   "cell_type": "code",
   "execution_count": null,
   "id": "38d40513",
   "metadata": {},
   "outputs": [],
   "source": [
    "#training set\n",
    "print(X_train.describe())\n",
    "print()\n",
    "print(y_train.describe())"
   ]
  },
  {
   "cell_type": "code",
   "execution_count": null,
   "id": "1dd5dd5f",
   "metadata": {},
   "outputs": [],
   "source": [
    "#test set\n",
    "print(X_test.describe())\n",
    "print()\n",
    "print(y_test.describe())"
   ]
  },
  {
   "cell_type": "markdown",
   "id": "04976fd9",
   "metadata": {},
   "source": [
    "# Training the model"
   ]
  },
  {
   "cell_type": "code",
   "execution_count": null,
   "id": "271c00ce",
   "metadata": {},
   "outputs": [],
   "source": [
    "from sklearn.linear_model import LinearRegression\n",
    "\n",
    "#Creating the regression model\n",
    "model = LinearRegression()\n",
    "\n",
    "#Training the model\n",
    "model.fit(X_train, y_train)\n",
    "\n",
    "#Using model to make predictions\n",
    "y_pred = model.predict(X_test)\n",
    "y_pred\n"
   ]
  },
  {
   "cell_type": "markdown",
   "id": "b959b48f",
   "metadata": {},
   "source": [
    "# Vaildation of the model"
   ]
  },
  {
   "cell_type": "code",
   "execution_count": null,
   "id": "8d429806",
   "metadata": {
    "scrolled": false
   },
   "outputs": [],
   "source": [
    "from sklearn.metrics import mean_squared_error, r2_score, mean_absolute_error\n",
    "print(\"Model Coefficients:\", model.coef_)\n",
    "print(\"Mean Absolute Error:\", mean_absolute_error(y_test, y_pred))\n",
    "print(\"Coefficient of Determination:\", r2_score(y_test, y_pred))\n",
    "print(\"Root Mean Squared Error:\", math.sqrt(mean_squared_error(y_test, y_pred)))\n",
    "print(\"Intercept\", model.intercept_)\n"
   ]
  },
  {
   "cell_type": "code",
   "execution_count": null,
   "id": "eba399d6",
   "metadata": {},
   "outputs": [],
   "source": [
    "#Testing data accuracy (With test set)\n",
    "\n",
    "plt.scatter(X_test, y_test, color = 'red', edgecolor='black',linewidth=0.1, label = 'Real Values', s=20)\n",
    "plt.plot(X_test, model.predict(X_test), label = 'Predicted Values')\n",
    "plt.grid()\n",
    "plt.legend()\n",
    "plt.xlabel('Close')\n",
    "plt.ylabel('EMA_10')\n",
    "plt.figure(figsize=(1, 1))"
   ]
  },
  {
   "cell_type": "code",
   "execution_count": null,
   "id": "4e41f4dd",
   "metadata": {},
   "outputs": [],
   "source": [
    "#Testing data accuracy (With training set)\n",
    "\n",
    "plt.scatter(X_train, y_train, color = 'red', edgecolor='black',linewidth=0.1, label = 'Real Values', s=20)\n",
    "plt.plot(X_train, model.predict(X_train), label = 'Predicted Values')\n",
    "plt.grid()\n",
    "plt.legend()\n",
    "plt.xlabel('Close')\n",
    "plt.ylabel('EMA_10')\n",
    "plt.figure(figsize=(1, 1))"
   ]
  },
  {
   "cell_type": "code",
   "execution_count": null,
   "id": "fb48ea8c",
   "metadata": {},
   "outputs": [],
   "source": [
    "#Residual Plot\n",
    "residual_model = y_pred - y_test\n",
    "plt.subplots(figsize=(6, 3))\n",
    "plt.title(\"Distribution of Residuals\")\n",
    "sns.distplot(residual_model)"
   ]
  },
  {
   "cell_type": "markdown",
   "id": "1dfb319f",
   "metadata": {},
   "source": [
    "# Comparing Real v/s Predicted Values"
   ]
  },
  {
   "cell_type": "code",
   "execution_count": null,
   "id": "058df0ef",
   "metadata": {},
   "outputs": [],
   "source": [
    "comparison = y_test\n",
    "comparison['predictions'] = y_pred\n",
    "comparison = comparison.rename(columns={\"EMA_10\": \"Actual_Values\",\"predictions\": \"Predicted_Values\"})\n",
    "comparison.head(10)"
   ]
  },
  {
   "cell_type": "code",
   "execution_count": null,
   "id": "fe42d16f",
   "metadata": {},
   "outputs": [],
   "source": [
    "graph = comparison.head(15)\n",
    "graph.plot(kind='bar', ylabel='Prices')\n"
   ]
  },
  {
   "cell_type": "code",
   "execution_count": null,
   "id": "588718a3",
   "metadata": {},
   "outputs": [],
   "source": [
    "comparison.plot.line()"
   ]
  },
  {
   "cell_type": "code",
   "execution_count": null,
   "id": "b484f576",
   "metadata": {},
   "outputs": [],
   "source": [
    "import math\n",
    "x2=abs(y_pred-y_test)\n",
    "x2 = x2.drop(['predictions'], axis=1)"
   ]
  },
  {
   "cell_type": "code",
   "execution_count": null,
   "id": "a96b6d7b",
   "metadata": {},
   "outputs": [],
   "source": [
    "y_test = y_test.drop(['predictions'], axis = 1)"
   ]
  },
  {
   "cell_type": "code",
   "execution_count": null,
   "id": "fcbb46e1",
   "metadata": {},
   "outputs": [],
   "source": [
    "\n",
    "y2 = 100 * (x2/y_test)\n",
    "accuracy = 100 - np.mean(y2)\n",
    "print('Accuracy: ', round(accuracy,2), '%')"
   ]
  },
  {
   "cell_type": "markdown",
   "id": "b4ce1ceb",
   "metadata": {},
   "source": [
    "# Strategy Checking"
   ]
  },
  {
   "cell_type": "code",
   "execution_count": null,
   "id": "bc5e3db4",
   "metadata": {},
   "outputs": [],
   "source": [
    "ticker = \"ORCL\"\n",
    "start_date = \"2023-01-22\"\n",
    "end_date = \"2023-06-22\"\n",
    "new = yf.download(ticker, start_date, end_date)"
   ]
  },
  {
   "cell_type": "code",
   "execution_count": null,
   "id": "1ddb914e",
   "metadata": {},
   "outputs": [],
   "source": [
    "new"
   ]
  },
  {
   "cell_type": "code",
   "execution_count": null,
   "id": "cfee3f5f",
   "metadata": {},
   "outputs": [],
   "source": [
    "new = new.drop(['High','Low','Adj Close','Volume'], axis=1)"
   ]
  },
  {
   "cell_type": "code",
   "execution_count": null,
   "id": "5db88758",
   "metadata": {},
   "outputs": [],
   "source": [
    "new"
   ]
  },
  {
   "cell_type": "code",
   "execution_count": null,
   "id": "15514879",
   "metadata": {},
   "outputs": [],
   "source": [
    "new.ta.ema(close='close', length = 10, append = True)"
   ]
  },
  {
   "cell_type": "code",
   "execution_count": null,
   "id": "17994e2f",
   "metadata": {},
   "outputs": [],
   "source": [
    "print(new)\n",
    "new=new.iloc[10:]\n",
    "new"
   ]
  },
  {
   "cell_type": "code",
   "execution_count": null,
   "id": "7545f6cc",
   "metadata": {},
   "outputs": [],
   "source": [
    "#Predicting the values\n",
    "close_values = new[['EMA_10']]\n",
    "my_pred = model.predict(close_values)"
   ]
  },
  {
   "cell_type": "code",
   "execution_count": null,
   "id": "48853c35",
   "metadata": {},
   "outputs": [],
   "source": [
    "new['Predicted Values']=my_pred"
   ]
  },
  {
   "cell_type": "code",
   "execution_count": null,
   "id": "10a99bc0",
   "metadata": {},
   "outputs": [],
   "source": [
    "new"
   ]
  },
  {
   "cell_type": "code",
   "execution_count": null,
   "id": "be2d8390",
   "metadata": {},
   "outputs": [],
   "source": [
    "df_test=pd.read_csv('Model_1_Predictions.csv')\n",
    "df_test"
   ]
  },
  {
   "cell_type": "code",
   "execution_count": null,
   "id": "2ff8a4aa",
   "metadata": {},
   "outputs": [],
   "source": [
    "proj_close=df_test[['Predicted Values']]\n",
    "proj_close=model.predict(proj_close)"
   ]
  },
  {
   "cell_type": "code",
   "execution_count": null,
   "id": "c7614f64",
   "metadata": {},
   "outputs": [],
   "source": [
    "new['Predicted Values Combination']=proj_close\n",
    "new"
   ]
  },
  {
   "cell_type": "code",
   "execution_count": null,
   "id": "3c83f34d",
   "metadata": {},
   "outputs": [],
   "source": [
    "new.to_csv('Model_Combination_Predictions.csv')"
   ]
  }
 ],
 "metadata": {
  "kernelspec": {
   "display_name": "Python 3 (ipykernel)",
   "language": "python",
   "name": "python3"
  },
  "language_info": {
   "codemirror_mode": {
    "name": "ipython",
    "version": 3
   },
   "file_extension": ".py",
   "mimetype": "text/x-python",
   "name": "python",
   "nbconvert_exporter": "python",
   "pygments_lexer": "ipython3",
   "version": "3.7.8"
  }
 },
 "nbformat": 4,
 "nbformat_minor": 5
}
